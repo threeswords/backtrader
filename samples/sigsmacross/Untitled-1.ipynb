{
 "cells": [
  {
   "cell_type": "code",
   "execution_count": 5,
   "metadata": {},
   "outputs": [
    {
     "name": "stderr",
     "output_type": "stream",
     "text": [
      "C:\\vnstudio\\lib\\site-packages\\ipykernel_launcher.py:9: UserWarning: Matplotlib is currently using module://matplotlib_inline.backend_inline, which is a non-GUI backend, so cannot show the figure.\n",
      "  if __name__ == '__main__':\n"
     ]
    },
    {
     "data": {
      "image/png": "[encoded data removed]",
      "text/plain": [
       "<Figure size 432x288 with 1 Axes>"
      ]
     },
     "metadata": {
      "needs_background": "light"
     },
     "output_type": "display_data"
    }
   ],
   "source": [
    "import matplotlib.pyplot as plt\n",
    "\n",
    "x = [1,2,3]\n",
    "y = [1,7,5]\n",
    "\n",
    "plt.ion()               # interactive mode on\n",
    "fig,ax = plt.subplots()\n",
    "line, = ax.plot(x,y)\n",
    "fig.show()"
   ]
  },
  {
   "cell_type": "code",
   "execution_count": 6,
   "metadata": {},
   "outputs": [],
   "source": [
    "# second cell ------------------------------\n",
    "\n",
    "x.append(4)\n",
    "y.append(10)\n",
    "\n",
    "line.set_data(x,y)   # set new data\n",
    "\n",
    "ax.relim()           # recompute the data limits\n",
    "ax.autoscale_view()  # automatic axis scaling"
   ]
  },
  {
   "cell_type": "code",
   "execution_count": null,
   "metadata": {},
   "outputs": [],
   "source": [
    "# %% \n",
    "# third cell: just a radom example to plot sequentially ---------------------\n",
    "\n",
    "from random import randint\n",
    "\n",
    "for i in range(5):\n",
    "    x.append(x[-1]+1)\n",
    "    y.append(randint(0,10))\n",
    "\n",
    "    line.set_data(x,y)   # set new data\n",
    "\n",
    "    ax.relim()           # recompute the data limits\n",
    "    ax.autoscale_view()  # automatic axis scaling\n",
    "\n",
    "    plt.pause(0.5)"
   ]
  },
  {
   "cell_type": "code",
   "execution_count": null,
   "metadata": {},
   "outputs": [],
   "source": []
  },
  {
   "cell_type": "code",
   "execution_count": null,
   "metadata": {},
   "outputs": [],
   "source": []
  }
 ],
 "metadata": {
  "interpreter": {
   "hash": "0d2af4708e901420ca316528daed9d207adf237f59982b81f6b4928a0eab77f9"
  },
  "kernelspec": {
   "display_name": "Python 3.7.1 64-bit (system)",
   "language": "python",
   "name": "python3"
  },
  "language_info": {
   "codemirror_mode": {
    "name": "ipython",
    "version": 3
   },
   "file_extension": ".py",
   "mimetype": "text/x-python",
   "name": "python",
   "nbconvert_exporter": "python",
   "pygments_lexer": "ipython3",
   "version": "3.7.1"
  },
  "orig_nbformat": 4
 },
 "nbformat": 4,
 "nbformat_minor": 2
}
